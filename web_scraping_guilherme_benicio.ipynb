{
  "nbformat": 4,
  "nbformat_minor": 0,
  "metadata": {
    "colab": {
      "provenance": [],
      "authorship_tag": "ABX9TyP2n3Qm8li5bRnURk1eif9A",
      "include_colab_link": true
    },
    "kernelspec": {
      "name": "python3",
      "display_name": "Python 3"
    },
    "language_info": {
      "name": "python"
    }
  },
  "cells": [
    {
      "cell_type": "markdown",
      "metadata": {
        "id": "view-in-github",
        "colab_type": "text"
      },
      "source": [
        "<a href=\"https://colab.research.google.com/github/GuilhermeBenicio/web_scraping_atividade/blob/main/web_scraping_guilherme_benicio.ipynb\" target=\"_parent\"><img src=\"https://colab.research.google.com/assets/colab-badge.svg\" alt=\"Open In Colab\"/></a>"
      ]
    },
    {
      "cell_type": "code",
      "execution_count": null,
      "metadata": {
        "id": "NvNm1_y_TuO2"
      },
      "outputs": [],
      "source": [
        "import requests\n",
        "from bs4 import BeautifulSoup\n",
        "import re"
      ]
    },
    {
      "cell_type": "code",
      "source": [
        "\n",
        "base_url = \"http://books.toscrape.com/catalogue/page-{}.html\"\n",
        "\n",
        "def obter_dados_livros():\n",
        "    livros = []\n",
        "    page = 1\n",
        "\n",
        "    while True:\n",
        "        url = base_url.format(page)\n",
        "        response = requests.get(url)\n",
        "\n",
        "        if response.status_code != 200:\n",
        "            break\n",
        "\n",
        "        soup = BeautifulSoup(response.content, \"html.parser\")\n",
        "        artigos = soup.find_all(\"article\", class_=\"product_pod\")\n",
        "\n",
        "        for artigo in artigos:\n",
        "\n",
        "            titulo = artigo.h3.a[\"title\"]\n",
        "\n",
        "            preco = artigo.find(\"p\", class_=\"price_color\").text\n",
        "            preco = float(re.sub(r\"£\", \"\", preco))\n",
        "\n",
        "            livros.append({\"titulo\": titulo, \"preco\": preco})\n",
        "\n",
        "        page += 1\n",
        "\n",
        "    return livros\n",
        "\n",
        "def analise_dados_livros(livros):\n",
        "\n",
        "    preco_medio = sum(livro[\"preco\"] for livro in livros) / len(livros)\n",
        "\n",
        "    total_livros = len(livros)\n",
        "\n",
        "    livros_mais_caros = sorted(livros, key=lambda x: x[\"preco\"], reverse=True)[:3]\n",
        "\n",
        "    return preco_medio, total_livros, livros_mais_caros\n",
        "\n",
        "livros = obter_dados_livros()\n",
        "preco_medio, total_livros, livros_mais_caros = analise_dados_livros(livros)\n",
        "\n",
        "print(f\"Preço médio dos livros: R${preco_medio:.2f}\")\n",
        "print(f\"Total de livros disponíveis: {total_livros}\")\n",
        "print(\"Livros mais caros:\")\n",
        "for livro in livros_mais_caros:\n",
        "    print(f\"- {livro['titulo']}: R${livro['preco']:.2f}\")"
      ],
      "metadata": {
        "colab": {
          "base_uri": "https://localhost:8080/"
        },
        "id": "Af7CWMSNT5Er",
        "outputId": "fe603d07-1e0c-4d02-bdb5-819ce1d43061"
      },
      "execution_count": null,
      "outputs": [
        {
          "output_type": "stream",
          "name": "stdout",
          "text": [
            "Preço médio dos livros: R$35.07\n",
            "Total de livros disponíveis: 1000\n",
            "Livros mais caros:\n",
            "- The Perfect Play (Play by Play #1): R$59.99\n",
            "- Last One Home (New Beginnings #1): R$59.98\n",
            "- Civilization and Its Discontents: R$59.95\n"
          ]
        }
      ]
    }
  ]
}